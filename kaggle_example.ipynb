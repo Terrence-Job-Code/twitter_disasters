{
 "cells": [
  {
   "cell_type": "markdown",
   "metadata": {},
   "source": [
    "Just gonna have a collection of kaggle notebooks here to look at and try with different things\n",
    "\n",
    "https://www.kaggle.com/doomdiskday/full-tutoria-eda-to-ensembles-embeddings-zoo\n",
    "\n",
    "https://www.kaggle.com/kamalpangeni/disaster-tweets-with-lr-rf-dnn"
   ]
  }
 ],
 "metadata": {
  "kernelspec": {
   "display_name": "Python 3",
   "language": "python",
   "name": "python3"
  },
  "language_info": {
   "codemirror_mode": {
    "name": "ipython",
    "version": 3
   },
   "file_extension": ".py",
   "mimetype": "text/x-python",
   "name": "python",
   "nbconvert_exporter": "python",
   "pygments_lexer": "ipython3",
   "version": "3.7.3"
  }
 },
 "nbformat": 4,
 "nbformat_minor": 4
}
