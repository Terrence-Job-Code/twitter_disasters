{
 "cells": [
  {
   "cell_type": "code",
   "execution_count": 17,
   "metadata": {
    "pycharm": {
     "is_executing": false
    }
   },
   "outputs": [],
   "source": [
    "import numpy as np\n",
    "import pandas as pd\n",
    "import matplotlib.pyplot as plt\n",
    "from nltk.corpus import stopwords\n",
    "from sklearn.feature_extraction.text import CountVectorizer\n",
    "from sklearn.model_selection import train_test_split\n",
    "from keras import backend as k\n",
    "from keras.preprocessing.sequence import pad_sequences\n",
    "from keras.layers import Conv2D, MaxPooling2D, Dense, Conv1D, Dropout\n",
    "from keras.layers import MaxPooling1D, Flatten, Embedding, LSTM\n",
    "from keras.models import Sequential\n",
    "import spacy\n",
    "import nltk\n",
    "import en_core_web_md\n",
    "#nlp = spacy.load('en_core_web_sm')"
   ]
  },
  {
   "cell_type": "code",
   "execution_count": null,
   "metadata": {},
   "outputs": [],
   "source": []
  },
  {
   "cell_type": "code",
   "execution_count": 4,
   "metadata": {
    "pycharm": {
     "is_executing": false
    }
   },
   "outputs": [],
   "source": [
    "tweet_full_train_df = pd.read_csv('input/train.csv')\n",
    "tweet_full_test_df = pd.read_csv('input/test.csv')"
   ]
  },
  {
   "cell_type": "code",
   "execution_count": 5,
   "metadata": {
    "pycharm": {
     "is_executing": false
    }
   },
   "outputs": [],
   "source": [
    "tweet_full_train_df.head()\n",
    "train_test_size = 0.2\n",
    "\n",
    "vectorizer = CountVectorizer(binary=True, stop_words=stopwords.words('english'),\n",
    "                            lowercase=True, min_df=3, max_df=0.9, max_features=5000)\n",
    "\n",
    "wv_data = vectorizer.fit_transform(tweet_full_train_df['text'].values)\n",
    "wv_target = tweet_full_train_df['target'].values\n",
    "\n",
    "data_train, data_validation, target_train, target_validation = train_test_split(\n",
    "    tweet_full_train_df['text'].values ,tweet_full_train_df['target'].values,test_size=train_test_size)\n",
    "\n",
    "#data_train, data_validation, target_train, target_validation = train_test_split(\n",
    "#    wv_data ,tweet_full_train_df['target'].values,test_size=train_test_size)"
   ]
  },
  {
   "cell_type": "code",
   "execution_count": 6,
   "metadata": {
    "pycharm": {
     "is_executing": false
    }
   },
   "outputs": [
    {
     "name": "stdout",
     "output_type": "stream",
     "text": [
      "I'm loving this classic barn shot! We may or may not have got electrocuted got stung a few times and stepped in... http://t.co/X6aSGRjsWC 1\n"
     ]
    }
   ],
   "source": [
    "place = 10\n",
    "print(data_train[place],target_train[place])\n",
    "#print(target_train[2])\n",
    "#print(wv_data[0])"
   ]
  },
  {
   "cell_type": "markdown",
   "metadata": {},
   "source": [
    "so there are many layers of data manipulation to try, one is just the bag of words model\n",
    "I'm gonna follow the intro tutorial here\n",
    "https://nlpforhackers.io/keras-intro/\n",
    "and then start looking into other models and testing those out"
   ]
  },
  {
   "cell_type": "code",
   "execution_count": 7,
   "metadata": {
    "pycharm": {
     "is_executing": false
    }
   },
   "outputs": [],
   "source": [
    "#raise ValueError\n",
    "\n",
    "# this download function is useful if I ever need to download another \n",
    "#nltk.download()\n",
    "vectorizer = CountVectorizer(binary=True, stop_words=stopwords.words('english'),\n",
    "                            lowercase=True, min_df=3, max_df=0.9, max_features=5000)\n",
    "\n",
    "data_train_cv = vectorizer.fit_transform(data_train)\n",
    "data_valid_cv = vectorizer.transform(data_validation)\n"
   ]
  },
  {
   "cell_type": "code",
   "execution_count": 8,
   "metadata": {
    "pycharm": {
     "is_executing": false
    }
   },
   "outputs": [],
   "source": [
    "def simple_cv_model():\n",
    "    # just a simple model\n",
    "    \n",
    "    model = Sequential()\n",
    "    \n",
    "    model.add(Dense(units=500, activation='relu', input_dim=len(vectorizer.get_feature_names())))\n",
    "    model.add(Dense(units=1, activation='sigmoid'))\n",
    "    \n",
    "    return model"
   ]
  },
  {
   "cell_type": "code",
   "execution_count": 9,
   "metadata": {
    "pycharm": {
     "is_executing": false
    }
   },
   "outputs": [
    {
     "name": "stdout",
     "output_type": "stream",
     "text": [
      "WARNING:tensorflow:From C:\\Users\\TerrenceJEdmonds\\Anaconda3\\lib\\site-packages\\tensorflow\\python\\ops\\nn_impl.py:180: add_dispatch_support.<locals>.wrapper (from tensorflow.python.ops.array_ops) is deprecated and will be removed in a future version.\n",
      "Instructions for updating:\n",
      "Use tf.where in 2.0, which has the same broadcast rule as np.where\n",
      "3669\n",
      "(6090, 3669)\n",
      "(6090,)\n"
     ]
    }
   ],
   "source": [
    "simple_countvec = simple_cv_model()\n",
    "simple_countvec.compile(loss='binary_crossentropy', optimizer='adam', metrics=['accuracy'])\n",
    "#simple_countvec.summary()\n",
    "print(len(vectorizer.get_feature_names()))\n",
    "print(data_train_cv.shape)\n",
    "print(target_train.shape)\n",
    "#print(data_valid_cv.shape)"
   ]
  },
  {
   "cell_type": "code",
   "execution_count": 10,
   "metadata": {
    "pycharm": {
     "is_executing": false
    }
   },
   "outputs": [
    {
     "name": "stdout",
     "output_type": "stream",
     "text": [
      "WARNING:tensorflow:From C:\\Users\\TerrenceJEdmonds\\Anaconda3\\lib\\site-packages\\keras\\backend\\tensorflow_backend.py:422: The name tf.global_variables is deprecated. Please use tf.compat.v1.global_variables instead.\n",
      "\n",
      "Train on 5990 samples, validate on 1523 samples\n",
      "Epoch 1/2\n",
      "5990/5990 [==============================] - ETA: 1:42 - loss: 0.6970 - accuracy: 0.45 - ETA: 24s - loss: 0.6878 - accuracy: 0.5898 - ETA: 8s - loss: 0.6717 - accuracy: 0.657 - ETA: 4s - loss: 0.6525 - accuracy: 0.69 - ETA: 2s - loss: 0.6365 - accuracy: 0.70 - ETA: 1s - loss: 0.6162 - accuracy: 0.72 - ETA: 0s - loss: 0.5983 - accuracy: 0.73 - ETA: 0s - loss: 0.5791 - accuracy: 0.74 - ETA: 0s - loss: 0.5691 - accuracy: 0.74 - 3s 472us/step - loss: 0.5669 - accuracy: 0.7494 - val_loss: 0.4587 - val_accuracy: 0.8004\n",
      "Epoch 2/2\n",
      "5990/5990 [==============================] - ETA: 0s - loss: 0.4900 - accuracy: 0.78 - ETA: 0s - loss: 0.3859 - accuracy: 0.84 - ETA: 0s - loss: 0.3686 - accuracy: 0.84 - ETA: 0s - loss: 0.3675 - accuracy: 0.84 - ETA: 0s - loss: 0.3574 - accuracy: 0.85 - ETA: 0s - loss: 0.3590 - accuracy: 0.84 - ETA: 0s - loss: 0.3555 - accuracy: 0.85 - ETA: 0s - loss: 0.3586 - accuracy: 0.85 - ETA: 0s - loss: 0.3551 - accuracy: 0.85 - 1s 95us/step - loss: 0.3538 - accuracy: 0.8544 - val_loss: 0.4362 - val_accuracy: 0.7991\n"
     ]
    },
    {
     "data": {
      "text/plain": [
       "<keras.callbacks.callbacks.History at 0x16cc96d1470>"
      ]
     },
     "execution_count": 10,
     "metadata": {},
     "output_type": "execute_result"
    }
   ],
   "source": [
    "# train the model\n",
    "simple_countvec.fit(data_train_cv[:-100],target_train[:-100],\n",
    "          epochs=2, batch_size=128, verbose=1,\n",
    "         validation_data=(data_valid_cv,target_validation))"
   ]
  },
  {
   "cell_type": "code",
   "execution_count": 9,
   "metadata": {
    "pycharm": {
     "is_executing": false
    }
   },
   "outputs": [
    {
     "name": "stdout",
     "output_type": "stream",
     "text": [
      "<class 'scipy.sparse.csr.csr_matrix'>\n"
     ]
    }
   ],
   "source": [
    "print(type(data_train_cv[0]))"
   ]
  },
  {
   "cell_type": "code",
   "execution_count": 11,
   "metadata": {
    "pycharm": {
     "is_executing": false
    }
   },
   "outputs": [
    {
     "name": "stdout",
     "output_type": "stream",
     "text": [
      "[3192]\n",
      "[776, 1737, 2962]\n",
      "MAX_SEQ_LENGTH= 21\n",
      "N_FEATURES= 3669\n",
      "[3669 3669 3669 3669 3669 3669 3669 3669 3669 3669 3669 3669 3669 3669\n",
      " 3669 3669 3669 3669  776 1737 2962]\n"
     ]
    }
   ],
   "source": [
    "# now to try out a CNN\n",
    "# following the nlpforhackers keras-intro\n",
    "\n",
    "word2idx = {word: idx for idx, word in enumerate(vectorizer.get_feature_names())}\n",
    "tokenize = vectorizer.build_tokenizer()\n",
    "preprocess = vectorizer.build_preprocessor()\n",
    "\n",
    "def to_sequence(tokenizer, preprocessor, index, text):\n",
    "    \n",
    "    words = tokenizer(preprocessor(text))\n",
    "    #print(words)\n",
    "    indexes = [index[word] for word in words if word in index]\n",
    "    \n",
    "    return indexes\n",
    "\n",
    "print(to_sequence(tokenize, preprocess, word2idx, \"this is an important test!\"))\n",
    "data_train_sequences = [to_sequence(tokenize, preprocess, word2idx, x) for x in data_train]\n",
    "data_test_sequences = [to_sequence(tokenize, preprocess, word2idx, x) for x in data_validation]\n",
    "print(data_train_sequences[0])\n",
    "\n",
    "# but now we pad so that everything is the same length\n",
    "MAX_SEQ_LENGTH = len(max(data_train_sequences, key=len))\n",
    "if len(max(data_test_sequences, key=len)) > MAX_SEQ_LENGTH:\n",
    "    MAX_SEQ_LENGTH = len(max(data_test_sequences, key=len))\n",
    "\n",
    "print('MAX_SEQ_LENGTH=',MAX_SEQ_LENGTH)\n",
    "N_FEATURES = len(vectorizer.get_feature_names())\n",
    "print('N_FEATURES=',N_FEATURES)\n",
    "data_train_sequences = pad_sequences(data_train_sequences, maxlen=MAX_SEQ_LENGTH, value=N_FEATURES)\n",
    "data_test_sequences = pad_sequences(data_test_sequences, maxlen=MAX_SEQ_LENGTH, value=N_FEATURES)\n",
    "print(data_train_sequences[0])\n",
    "\n",
    "#data_validation_sequences = \n"
   ]
  },
  {
   "cell_type": "code",
   "execution_count": 21,
   "metadata": {
    "pycharm": {
     "is_executing": false
    }
   },
   "outputs": [
    {
     "name": "stdout",
     "output_type": "stream",
     "text": [
      "Model: \"sequential_7\"\n",
      "_________________________________________________________________\n",
      "Layer (type)                 Output Shape              Param #   \n",
      "=================================================================\n",
      "embedding_6 (Embedding)      (None, 21, 64)            234880    \n",
      "_________________________________________________________________\n",
      "conv1d_9 (Conv1D)            (None, 21, 64)            20544     \n",
      "_________________________________________________________________\n",
      "max_pooling1d_9 (MaxPooling1 (None, 5, 64)             0         \n",
      "_________________________________________________________________\n",
      "dropout_3 (Dropout)          (None, 5, 64)             0         \n",
      "_________________________________________________________________\n",
      "conv1d_10 (Conv1D)           (None, 5, 64)             20544     \n",
      "_________________________________________________________________\n",
      "max_pooling1d_10 (MaxPooling (None, 1, 64)             0         \n",
      "_________________________________________________________________\n",
      "flatten_5 (Flatten)          (None, 64)                0         \n",
      "_________________________________________________________________\n",
      "dense_12 (Dense)             (None, 64)                4160      \n",
      "_________________________________________________________________\n",
      "dense_13 (Dense)             (None, 1)                 65        \n",
      "=================================================================\n",
      "Total params: 280,193\n",
      "Trainable params: 280,193\n",
      "Non-trainable params: 0\n",
      "_________________________________________________________________\n",
      "None\n"
     ]
    }
   ],
   "source": [
    "def conv_model():\n",
    "    \n",
    "    model = Sequential()\n",
    "    \n",
    "    model.add(Embedding(len(vectorizer.get_feature_names()) + 1, 64,\n",
    "                       input_length=MAX_SEQ_LENGTH))\n",
    "    \n",
    "    model.add(Conv1D(64, 5, activation='relu',padding='same'))\n",
    "    model.add(MaxPooling1D(5,padding='same'))\n",
    "    model.add(Dropout(0.25))\n",
    "    model.add(Conv1D(64,5,activation='relu',padding='same'))\n",
    "    model.add(MaxPooling1D(5,padding='same'))\n",
    "    \n",
    "    model.add(Flatten())\n",
    "    model.add(Dense(units=64, activation='relu'))\n",
    "    model.add(Dense(units=1, activation='sigmoid'))\n",
    "    \n",
    "    return model\n",
    "\n",
    "sim_conv_model = conv_model()\n",
    "\n",
    "sim_conv_model.compile(loss='binary_crossentropy', optimizer='adam', metrics=['accuracy'])\n",
    "print(sim_conv_model.summary())"
   ]
  },
  {
   "cell_type": "code",
   "execution_count": 24,
   "metadata": {
    "pycharm": {
     "is_executing": false
    }
   },
   "outputs": [
    {
     "name": "stdout",
     "output_type": "stream",
     "text": [
      "Train on 5990 samples, validate on 100 samples\n",
      "Epoch 1/7\n",
      "5990/5990 [==============================] - ETA: 3s - loss: 0.6939 - accuracy: 0.44 - ETA: 0s - loss: 0.6874 - accuracy: 0.54 - 0s 81us/step - loss: 0.6832 - accuracy: 0.5551 - val_loss: 0.6707 - val_accuracy: 0.5700\n",
      "Epoch 2/7\n",
      "5990/5990 [==============================] - ETA: 0s - loss: 0.6572 - accuracy: 0.60 - ETA: 0s - loss: 0.6608 - accuracy: 0.57 - 0s 19us/step - loss: 0.6512 - accuracy: 0.6088 - val_loss: 0.6144 - val_accuracy: 0.6800\n",
      "Epoch 3/7\n",
      "5990/5990 [==============================] - ETA: 0s - loss: 0.6173 - accuracy: 0.67 - ETA: 0s - loss: 0.5929 - accuracy: 0.70 - 0s 20us/step - loss: 0.5628 - accuracy: 0.7311 - val_loss: 0.4684 - val_accuracy: 0.7500\n",
      "Epoch 4/7\n",
      "5990/5990 [==============================] - ETA: 0s - loss: 0.4843 - accuracy: 0.80 - ETA: 0s - loss: 0.4302 - accuracy: 0.82 - 0s 20us/step - loss: 0.4013 - accuracy: 0.8339 - val_loss: 0.3140 - val_accuracy: 0.8900\n",
      "Epoch 5/7\n",
      "5990/5990 [==============================] - ETA: 0s - loss: 0.3135 - accuracy: 0.87 - ETA: 0s - loss: 0.3134 - accuracy: 0.87 - 0s 20us/step - loss: 0.3079 - accuracy: 0.8758 - val_loss: 0.3390 - val_accuracy: 0.8900\n",
      "Epoch 6/7\n",
      "5990/5990 [==============================] - ETA: 0s - loss: 0.2586 - accuracy: 0.90 - ETA: 0s - loss: 0.2442 - accuracy: 0.90 - 0s 19us/step - loss: 0.2486 - accuracy: 0.9005 - val_loss: 0.3089 - val_accuracy: 0.8900\n",
      "Epoch 7/7\n",
      "5990/5990 [==============================] - ETA: 0s - loss: 0.1777 - accuracy: 0.93 - ETA: 0s - loss: 0.2044 - accuracy: 0.92 - 0s 21us/step - loss: 0.2080 - accuracy: 0.9197 - val_loss: 0.3253 - val_accuracy: 0.8800\n"
     ]
    },
    {
     "data": {
      "image/png": "[encoded data removed]",
      "text/plain": [
       "<Figure size 432x288 with 1 Axes>"
      ]
     },
     "metadata": {
      "needs_background": "light"
     },
     "output_type": "display_data"
    },
    {
     "data": {
      "image/png": "[encoded data removed]",
      "text/plain": [
       "<Figure size 432x288 with 1 Axes>"
      ]
     },
     "metadata": {
      "needs_background": "light"
     },
     "output_type": "display_data"
    }
   ],
   "source": [
    "sim_conv_model = conv_model()\n",
    "\n",
    "sim_conv_model.compile(loss='binary_crossentropy', optimizer='adam', metrics=['accuracy'])\n",
    "\n",
    "sim_conv_model.fit(data_train_sequences[:-100],target_train[:-100],\n",
    "                  epochs=7, batch_size=512, verbose=1,\n",
    "                  validation_data=(data_train_sequences[-100:],target_train[-100:]))\n",
    "\n",
    "plt.plot(sim_conv_model.history.history['val_accuracy'])\n",
    "plt.title('val accuracy')\n",
    "plt.show()\n",
    "\n",
    "plt.plot(sim_conv_model.history.history['val_loss'])\n",
    "plt.title('val loss')\n",
    "plt.show()"
   ]
  },
  {
   "cell_type": "code",
   "execution_count": 25,
   "metadata": {
    "pycharm": {
     "is_executing": false
    }
   },
   "outputs": [
    {
     "name": "stdout",
     "output_type": "stream",
     "text": [
      "1523/1523 [==============================] - ETA:  - ETA:  - ETA:  - ETA:  - 0s 112us/step\n",
      "Accuracy: 0.787261962890625\n"
     ]
    }
   ],
   "source": [
    "scores = sim_conv_model.evaluate(data_test_sequences, target_validation, verbose=1)\n",
    "print('Accuracy:', scores[1])"
   ]
  },
  {
   "cell_type": "code",
   "execution_count": 15,
   "metadata": {
    "pycharm": {
     "is_executing": false
    }
   },
   "outputs": [
    {
     "name": "stdout",
     "output_type": "stream",
     "text": [
      "<bound method Network.summary of <keras.engine.sequential.Sequential object at 0x0000016F0499EB00>>\n"
     ]
    },
    {
     "data": {
      "image/png": "[encoded data removed]",
      "text/plain": [
       "<Figure size 432x288 with 1 Axes>"
      ]
     },
     "metadata": {
      "needs_background": "light"
     },
     "output_type": "display_data"
    },
    {
     "data": {
      "image/png": "[encoded data removed]",
      "text/plain": [
       "<Figure size 432x288 with 1 Axes>"
      ]
     },
     "metadata": {
      "needs_background": "light"
     },
     "output_type": "display_data"
    }
   ],
   "source": [
    "# now we build the LSTM network\n",
    "\n",
    "def lstm_model():\n",
    "    \n",
    "    model = Sequential()\n",
    "    \n",
    "    model.add(Embedding(len(vectorizer.get_feature_names()) +1, 64, input_length=MAX_SEQ_LENGTH))\n",
    "    \n",
    "    model.add(LSTM(64))\n",
    "    model.add(Dense(units=1, activation='sigmoid'))\n",
    "    \n",
    "    return model\n",
    "\n",
    "sim_lstm_mod = lstm_model()\n",
    "sim_lstm_mod.compile(loss='binary_crossentropy', optimizer='adam', metrics=['accuracy'])\n",
    "print(sim_lstm_mod.summary)\n",
    "\n",
    "sim_lstm_mod.fit(data_train_sequences[:-100],target_train[:-100],\n",
    "                epochs=5, batch_size=128, verbose=0,\n",
    "                validation_data=(data_train_sequences[-100:],target_train[-100:]))\n",
    "\n",
    "plt.plot(sim_lstm_mod.history.history['val_accuracy'])\n",
    "plt.title('val accuracy')\n",
    "plt.show()\n",
    "\n",
    "plt.plot(sim_lstm_mod.history.history['val_loss'])\n",
    "plt.title('val loss')\n",
    "plt.show()"
   ]
  },
  {
   "cell_type": "code",
   "execution_count": 16,
   "metadata": {
    "pycharm": {
     "is_executing": false
    }
   },
   "outputs": [
    {
     "name": "stdout",
     "output_type": "stream",
     "text": [
      "1523/1523 [==============================] - ETA:  - ETA:  - ETA:  - ETA:  - ETA:  - ETA:  - ETA:  - ETA:  - ETA:  - ETA:  - ETA:  - ETA:  - ETA:  - 1s 497us/step\n",
      "Accuracy: 0.7885751724243164\n"
     ]
    }
   ],
   "source": [
    "scores = sim_lstm_mod.evaluate(data_test_sequences, target_validation, verbose=1)\n",
    "print('Accuracy:', scores[1])"
   ]
  },
  {
   "cell_type": "code",
   "execution_count": 29,
   "metadata": {},
   "outputs": [
    {
     "name": "stdout",
     "output_type": "stream",
     "text": [
      "EMBEDDINGS_LEN= 300\n"
     ]
    }
   ],
   "source": [
    "# now to  transfer learning\n",
    "\n",
    "# spaCy embeddings\n",
    "\n",
    "#nlp = spacy.load('en_core_web_md')\n",
    "nlp = en_core_web_md.load()\n",
    "\n",
    "EMBEDDINGS_LEN = len(nlp.vocab['apple'].vector)\n",
    "print('EMBEDDINGS_LEN=',EMBEDDINGS_LEN)\n",
    "\n",
    "embeddings_index = np.zeros((len(vectorizer.get_feature_names()) + 1, EMBEDDINGS_LEN))\n",
    "for word, idx in word2idx.items():\n",
    "    try:\n",
    "        embedding = nlp.vocab[word].vector\n",
    "        embeddings_index[idx] = embedding\n",
    "    except:\n",
    "        pass"
   ]
  },
  {
   "cell_type": "code",
   "execution_count": 34,
   "metadata": {},
   "outputs": [
    {
     "name": "stdout",
     "output_type": "stream",
     "text": [
      "Model: \"sequential_8\"\n",
      "_________________________________________________________________\n",
      "Layer (type)                 Output Shape              Param #   \n",
      "=================================================================\n",
      "embedding_7 (Embedding)      (None, 22, 300)           1104000   \n",
      "_________________________________________________________________\n",
      "lstm_5 (LSTM)                (None, 300)               721200    \n",
      "_________________________________________________________________\n",
      "dense_11 (Dense)             (None, 1)                 301       \n",
      "=================================================================\n",
      "Total params: 1,825,501\n",
      "Trainable params: 721,501\n",
      "Non-trainable params: 1,104,000\n",
      "_________________________________________________________________\n",
      "None\n",
      "Train on 5990 samples, validate on 100 samples\n",
      "Epoch 1/5\n",
      "5990/5990 [==============================] - ETA: 18s - loss: 0.6942 - accuracy: 0.515 - ETA: 6s - loss: 0.6691 - accuracy: 0.554 - ETA: 4s - loss: 0.6429 - accuracy: 0.60 - ETA: 3s - loss: 0.6207 - accuracy: 0.64 - ETA: 2s - loss: 0.5983 - accuracy: 0.66 - ETA: 2s - loss: 0.5742 - accuracy: 0.69 - ETA: 1s - loss: 0.5738 - accuracy: 0.70 - ETA: 1s - loss: 0.5627 - accuracy: 0.71 - ETA: 1s - loss: 0.5531 - accuracy: 0.72 - ETA: 1s - loss: 0.5431 - accuracy: 0.73 - ETA: 1s - loss: 0.5340 - accuracy: 0.73 - ETA: 1s - loss: 0.5325 - accuracy: 0.73 - ETA: 0s - loss: 0.5299 - accuracy: 0.74 - ETA: 0s - loss: 0.5256 - accuracy: 0.74 - ETA: 0s - loss: 0.5216 - accuracy: 0.74 - ETA: 0s - loss: 0.5139 - accuracy: 0.75 - ETA: 0s - loss: 0.5066 - accuracy: 0.75 - ETA: 0s - loss: 0.5005 - accuracy: 0.75 - ETA: 0s - loss: 0.4963 - accuracy: 0.76 - ETA: 0s - loss: 0.4941 - accuracy: 0.76 - ETA: 0s - loss: 0.4933 - accuracy: 0.76 - ETA: 0s - loss: 0.4915 - accuracy: 0.76 - ETA: 0s - loss: 0.4887 - accuracy: 0.76 - 2s 321us/step - loss: 0.4877 - accuracy: 0.7678 - val_loss: 0.5132 - val_accuracy: 0.7500\n",
      "Epoch 2/5\n",
      "5990/5990 [==============================] - ETA: 1s - loss: 0.4621 - accuracy: 0.82 - ETA: 1s - loss: 0.4562 - accuracy: 0.80 - ETA: 1s - loss: 0.4487 - accuracy: 0.80 - ETA: 1s - loss: 0.4327 - accuracy: 0.80 - ETA: 1s - loss: 0.4417 - accuracy: 0.80 - ETA: 1s - loss: 0.4305 - accuracy: 0.80 - ETA: 1s - loss: 0.4274 - accuracy: 0.80 - ETA: 1s - loss: 0.4229 - accuracy: 0.80 - ETA: 1s - loss: 0.4259 - accuracy: 0.80 - ETA: 0s - loss: 0.4214 - accuracy: 0.80 - ETA: 0s - loss: 0.4197 - accuracy: 0.80 - ETA: 0s - loss: 0.4259 - accuracy: 0.80 - ETA: 0s - loss: 0.4238 - accuracy: 0.81 - ETA: 0s - loss: 0.4233 - accuracy: 0.81 - ETA: 0s - loss: 0.4200 - accuracy: 0.81 - ETA: 0s - loss: 0.4199 - accuracy: 0.81 - ETA: 0s - loss: 0.4210 - accuracy: 0.81 - ETA: 0s - loss: 0.4233 - accuracy: 0.81 - ETA: 0s - loss: 0.4221 - accuracy: 0.81 - ETA: 0s - loss: 0.4216 - accuracy: 0.81 - ETA: 0s - loss: 0.4223 - accuracy: 0.81 - ETA: 0s - loss: 0.4234 - accuracy: 0.80 - ETA: 0s - loss: 0.4263 - accuracy: 0.80 - ETA: 0s - loss: 0.4291 - accuracy: 0.80 - 2s 252us/step - loss: 0.4280 - accuracy: 0.8057 - val_loss: 0.4685 - val_accuracy: 0.7800\n",
      "Epoch 3/5\n",
      "5990/5990 [==============================] - ETA: 1s - loss: 0.3897 - accuracy: 0.80 - ETA: 1s - loss: 0.3814 - accuracy: 0.83 - ETA: 1s - loss: 0.3783 - accuracy: 0.83 - ETA: 1s - loss: 0.3896 - accuracy: 0.82 - ETA: 1s - loss: 0.3900 - accuracy: 0.82 - ETA: 1s - loss: 0.4056 - accuracy: 0.82 - ETA: 1s - loss: 0.4153 - accuracy: 0.81 - ETA: 0s - loss: 0.4193 - accuracy: 0.81 - ETA: 0s - loss: 0.4176 - accuracy: 0.81 - ETA: 0s - loss: 0.4159 - accuracy: 0.81 - ETA: 0s - loss: 0.4127 - accuracy: 0.82 - ETA: 0s - loss: 0.4134 - accuracy: 0.81 - ETA: 0s - loss: 0.4135 - accuracy: 0.81 - ETA: 0s - loss: 0.4118 - accuracy: 0.81 - ETA: 0s - loss: 0.4098 - accuracy: 0.81 - ETA: 0s - loss: 0.4110 - accuracy: 0.81 - ETA: 0s - loss: 0.4098 - accuracy: 0.81 - ETA: 0s - loss: 0.4072 - accuracy: 0.82 - ETA: 0s - loss: 0.4056 - accuracy: 0.82 - ETA: 0s - loss: 0.4020 - accuracy: 0.82 - ETA: 0s - loss: 0.4009 - accuracy: 0.82 - ETA: 0s - loss: 0.3998 - accuracy: 0.82 - ETA: 0s - loss: 0.4017 - accuracy: 0.82 - 1s 236us/step - loss: 0.4005 - accuracy: 0.8240 - val_loss: 0.4818 - val_accuracy: 0.7500\n",
      "Epoch 4/5\n",
      "5990/5990 [==============================] - ETA: 1s - loss: 0.3679 - accuracy: 0.85 - ETA: 1s - loss: 0.3477 - accuracy: 0.86 - ETA: 1s - loss: 0.3776 - accuracy: 0.84 - ETA: 1s - loss: 0.3707 - accuracy: 0.84 - ETA: 1s - loss: 0.3692 - accuracy: 0.84 - ETA: 1s - loss: 0.3765 - accuracy: 0.83 - ETA: 0s - loss: 0.3895 - accuracy: 0.83 - ETA: 0s - loss: 0.3861 - accuracy: 0.83 - ETA: 0s - loss: 0.3861 - accuracy: 0.82 - ETA: 0s - loss: 0.3830 - accuracy: 0.83 - ETA: 0s - loss: 0.3782 - accuracy: 0.83 - ETA: 0s - loss: 0.3742 - accuracy: 0.83 - ETA: 0s - loss: 0.3763 - accuracy: 0.83 - ETA: 0s - loss: 0.3792 - accuracy: 0.83 - ETA: 0s - loss: 0.3770 - accuracy: 0.83 - ETA: 0s - loss: 0.3763 - accuracy: 0.83 - ETA: 0s - loss: 0.3758 - accuracy: 0.83 - ETA: 0s - loss: 0.3760 - accuracy: 0.83 - ETA: 0s - loss: 0.3796 - accuracy: 0.83 - ETA: 0s - loss: 0.3796 - accuracy: 0.83 - ETA: 0s - loss: 0.3796 - accuracy: 0.83 - ETA: 0s - loss: 0.3770 - accuracy: 0.83 - ETA: 0s - loss: 0.3789 - accuracy: 0.83 - 1s 234us/step - loss: 0.3808 - accuracy: 0.8339 - val_loss: 0.4660 - val_accuracy: 0.7900\n",
      "Epoch 5/5\n",
      "5990/5990 [==============================] - ETA: 1s - loss: 0.3465 - accuracy: 0.88 - ETA: 1s - loss: 0.3131 - accuracy: 0.88 - ETA: 1s - loss: 0.3205 - accuracy: 0.87 - ETA: 1s - loss: 0.3160 - accuracy: 0.87 - ETA: 1s - loss: 0.3245 - accuracy: 0.86 - ETA: 1s - loss: 0.3214 - accuracy: 0.86 - ETA: 1s - loss: 0.3189 - accuracy: 0.86 - ETA: 0s - loss: 0.3257 - accuracy: 0.86 - ETA: 0s - loss: 0.3227 - accuracy: 0.86 - ETA: 0s - loss: 0.3247 - accuracy: 0.86 - ETA: 0s - loss: 0.3334 - accuracy: 0.85 - ETA: 0s - loss: 0.3392 - accuracy: 0.85 - ETA: 0s - loss: 0.3421 - accuracy: 0.85 - ETA: 0s - loss: 0.3484 - accuracy: 0.84 - ETA: 0s - loss: 0.3479 - accuracy: 0.84 - ETA: 0s - loss: 0.3495 - accuracy: 0.84 - ETA: 0s - loss: 0.3493 - accuracy: 0.84 - ETA: 0s - loss: 0.3479 - accuracy: 0.84 - ETA: 0s - loss: 0.3450 - accuracy: 0.84 - ETA: 0s - loss: 0.3434 - accuracy: 0.84 - ETA: 0s - loss: 0.3472 - accuracy: 0.84 - ETA: 0s - loss: 0.3485 - accuracy: 0.84 - ETA: 0s - loss: 0.3535 - accuracy: 0.84 - 1s 234us/step - loss: 0.3553 - accuracy: 0.8437 - val_loss: 0.5466 - val_accuracy: 0.7700\n"
     ]
    },
    {
     "data": {
      "text/plain": [
       "<keras.callbacks.callbacks.History at 0x2975105a400>"
      ]
     },
     "execution_count": 34,
     "metadata": {},
     "output_type": "execute_result"
    }
   ],
   "source": [
    "def spacy_trans_model():\n",
    "    \n",
    "    model = Sequential()\n",
    "    \n",
    "    model.add(Embedding(len(vectorizer.get_feature_names()) +1,\n",
    "                       EMBEDDINGS_LEN,\n",
    "                       weights=[embeddings_index],\n",
    "                       input_length=MAX_SEQ_LENGTH,\n",
    "                       trainable=False))\n",
    "    model.add(LSTM(300))\n",
    "    model.add(Dense(units=1, activation='sigmoid'))\n",
    "    \n",
    "    return model\n",
    "\n",
    "simple_spacy_model = spacy_trans_model()\n",
    "simple_spacy_model.compile(loss='binary_crossentropy',optimizer='adam', metrics=['accuracy'])\n",
    "print(simple_spacy_model.summary())\n",
    "\n",
    "simple_spacy_model.fit(data_train_sequences[:-100],target_train[:-100],\n",
    "                        epochs=5, batch_size=128, #verbose=1,\n",
    "                        validation_data=(data_train_sequences[-100:],target_train[-100:]))"
   ]
  },
  {
   "cell_type": "code",
   "execution_count": 35,
   "metadata": {},
   "outputs": [
    {
     "name": "stdout",
     "output_type": "stream",
     "text": [
      "1523/1523 [==============================] - ETA:  - ETA:  - ETA:  - ETA:  - ETA:  - ETA:  - ETA:  - ETA:  - ETA:  - ETA:  - 1s 387us/step\n",
      "Accuracy: 0.784635603427887\n"
     ]
    }
   ],
   "source": [
    "scores = simple_spacy_model.evaluate(data_test_sequences, target_validation, verbose=1)\n",
    "print('Accuracy:',scores[1])"
   ]
  },
  {
   "cell_type": "code",
   "execution_count": null,
   "metadata": {},
   "outputs": [],
   "source": [
    "# transfer learning with GloVe embeddings\n",
    "\n"
   ]
  }
 ],
 "metadata": {
  "kernelspec": {
   "display_name": "Python 3",
   "language": "python",
   "name": "python3"
  },
  "language_info": {
   "codemirror_mode": {
    "name": "ipython",
    "version": 3
   },
   "file_extension": ".py",
   "mimetype": "text/x-python",
   "name": "python",
   "nbconvert_exporter": "python",
   "pygments_lexer": "ipython3",
   "version": "3.7.3"
  },
  "pycharm": {
   "stem_cell": {
    "cell_type": "raw",
    "metadata": {
     "collapsed": false
    },
    "source": []
   }
  }
 },
 "nbformat": 4,
 "nbformat_minor": 4
}
