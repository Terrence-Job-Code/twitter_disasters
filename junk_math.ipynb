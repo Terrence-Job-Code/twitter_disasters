{
 "cells": [
  {
   "cell_type": "markdown",
   "metadata": {},
   "source": [
    "Consider using other files to preprocess word models in different ways. Ultimately, I'll just clean it up at the end."
   ]
  },
  {
   "cell_type": "code",
   "execution_count": 3,
   "metadata": {},
   "outputs": [],
   "source": [
    "import numpy as np"
   ]
  },
  {
   "cell_type": "code",
   "execution_count": 32,
   "metadata": {},
   "outputs": [
    {
     "name": "stdout",
     "output_type": "stream",
     "text": [
      "2.4674011002723395\n",
      "2.467400100272369\n",
      "\n",
      "1.9739208802178716\n",
      "2.029356063208148\n"
     ]
    }
   ],
   "source": [
    "full_sum = 0\n",
    "quad_sum = 0\n",
    "for i in range (-1000000,1000000):\n",
    "    if i%2 == 1:\n",
    "        full_sum += (1/i)*(1/i)\n",
    "    if i%2 == 1:\n",
    "        quad_sum += (1/i)**4\n",
    "\n",
    "print(np.pi*np.pi/4)\n",
    "#print(np.pi/3)\n",
    "print(full_sum)\n",
    "print()\n",
    "print(np.pi**2/5)\n",
    "print(quad_sum)"
   ]
  },
  {
   "cell_type": "code",
   "execution_count": 18,
   "outputs": [
    {
     "name": "stdout",
     "text": [
      "0.002184180765904606\n450.0\n0.0022222222222222222\n0.004355247599999945\n0.0044395061728395024\n0.9999996632885529\n0.9999666666666667\n"
     ],
     "output_type": "stream"
    }
   ],
   "source": [
    "#a = 29999/30000\n",
    "#print(a**3000)\n",
    "\n",
    "a = 0.985*(1/30000)\n",
    "b = 0.015*(1- 1/30000)\n",
    "\n",
    "print(a/(a+b))\n",
    "print(0.015*30000)\n",
    "print(1/450)\n",
    "print(1-(1-0.00218)**2)\n",
    "print(1-(449/450)**2)\n",
    "\n",
    "piec1 = 0.99*(29999/30000)\n",
    "piec2 = 0.01*(1/30000)\n",
    "print(piec1/(piec1+piec2))\n",
    "#print(29999/30000)"
   ],
   "metadata": {
    "collapsed": false,
    "pycharm": {
     "name": "#%%\n",
     "is_executing": false
    }
   }
  },
  {
   "cell_type": "code",
   "execution_count": null,
   "outputs": [],
   "source": [
    "\n"
   ],
   "metadata": {
    "collapsed": false,
    "pycharm": {
     "name": "#%%\n"
    }
   }
  }
 ],
 "metadata": {
  "kernelspec": {
   "display_name": "Python 3",
   "language": "python",
   "name": "python3"
  },
  "language_info": {
   "codemirror_mode": {
    "name": "ipython",
    "version": 3
   },
   "file_extension": ".py",
   "mimetype": "text/x-python",
   "name": "python",
   "nbconvert_exporter": "python",
   "pygments_lexer": "ipython3",
   "version": "3.7.3"
  },
  "pycharm": {
   "stem_cell": {
    "cell_type": "raw",
    "source": [],
    "metadata": {
     "collapsed": false
    }
   }
  }
 },
 "nbformat": 4,
 "nbformat_minor": 4
}