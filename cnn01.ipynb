{
 "cells": [
  {
   "cell_type": "code",
   "execution_count": 1,
   "metadata": {},
   "outputs": [],
   "source": [
    "# going to just do a few cnns and try to automate different hyperparameter tunings"
   ]
  },
  {
   "cell_type": "code",
   "execution_count": 2,
   "metadata": {},
   "outputs": [
    {
     "name": "stderr",
     "output_type": "stream",
     "text": [
      "Using TensorFlow backend.\n",
      "C:\\Users\\TerrenceJEdmonds\\Anaconda3\\lib\\site-packages\\tensorflow\\python\\framework\\dtypes.py:516: FutureWarning: Passing (type, 1) or '1type' as a synonym of type is deprecated; in a future version of numpy, it will be understood as (type, (1,)) / '(1,)type'.\n",
      "  _np_qint8 = np.dtype([(\"qint8\", np.int8, 1)])\n",
      "C:\\Users\\TerrenceJEdmonds\\Anaconda3\\lib\\site-packages\\tensorflow\\python\\framework\\dtypes.py:517: FutureWarning: Passing (type, 1) or '1type' as a synonym of type is deprecated; in a future version of numpy, it will be understood as (type, (1,)) / '(1,)type'.\n",
      "  _np_quint8 = np.dtype([(\"quint8\", np.uint8, 1)])\n",
      "C:\\Users\\TerrenceJEdmonds\\Anaconda3\\lib\\site-packages\\tensorflow\\python\\framework\\dtypes.py:518: FutureWarning: Passing (type, 1) or '1type' as a synonym of type is deprecated; in a future version of numpy, it will be understood as (type, (1,)) / '(1,)type'.\n",
      "  _np_qint16 = np.dtype([(\"qint16\", np.int16, 1)])\n",
      "C:\\Users\\TerrenceJEdmonds\\Anaconda3\\lib\\site-packages\\tensorflow\\python\\framework\\dtypes.py:519: FutureWarning: Passing (type, 1) or '1type' as a synonym of type is deprecated; in a future version of numpy, it will be understood as (type, (1,)) / '(1,)type'.\n",
      "  _np_quint16 = np.dtype([(\"quint16\", np.uint16, 1)])\n",
      "C:\\Users\\TerrenceJEdmonds\\Anaconda3\\lib\\site-packages\\tensorflow\\python\\framework\\dtypes.py:520: FutureWarning: Passing (type, 1) or '1type' as a synonym of type is deprecated; in a future version of numpy, it will be understood as (type, (1,)) / '(1,)type'.\n",
      "  _np_qint32 = np.dtype([(\"qint32\", np.int32, 1)])\n",
      "C:\\Users\\TerrenceJEdmonds\\Anaconda3\\lib\\site-packages\\tensorflow\\python\\framework\\dtypes.py:525: FutureWarning: Passing (type, 1) or '1type' as a synonym of type is deprecated; in a future version of numpy, it will be understood as (type, (1,)) / '(1,)type'.\n",
      "  np_resource = np.dtype([(\"resource\", np.ubyte, 1)])\n",
      "C:\\Users\\TerrenceJEdmonds\\Anaconda3\\lib\\site-packages\\tensorboard\\compat\\tensorflow_stub\\dtypes.py:541: FutureWarning: Passing (type, 1) or '1type' as a synonym of type is deprecated; in a future version of numpy, it will be understood as (type, (1,)) / '(1,)type'.\n",
      "  _np_qint8 = np.dtype([(\"qint8\", np.int8, 1)])\n",
      "C:\\Users\\TerrenceJEdmonds\\Anaconda3\\lib\\site-packages\\tensorboard\\compat\\tensorflow_stub\\dtypes.py:542: FutureWarning: Passing (type, 1) or '1type' as a synonym of type is deprecated; in a future version of numpy, it will be understood as (type, (1,)) / '(1,)type'.\n",
      "  _np_quint8 = np.dtype([(\"quint8\", np.uint8, 1)])\n",
      "C:\\Users\\TerrenceJEdmonds\\Anaconda3\\lib\\site-packages\\tensorboard\\compat\\tensorflow_stub\\dtypes.py:543: FutureWarning: Passing (type, 1) or '1type' as a synonym of type is deprecated; in a future version of numpy, it will be understood as (type, (1,)) / '(1,)type'.\n",
      "  _np_qint16 = np.dtype([(\"qint16\", np.int16, 1)])\n",
      "C:\\Users\\TerrenceJEdmonds\\Anaconda3\\lib\\site-packages\\tensorboard\\compat\\tensorflow_stub\\dtypes.py:544: FutureWarning: Passing (type, 1) or '1type' as a synonym of type is deprecated; in a future version of numpy, it will be understood as (type, (1,)) / '(1,)type'.\n",
      "  _np_quint16 = np.dtype([(\"quint16\", np.uint16, 1)])\n",
      "C:\\Users\\TerrenceJEdmonds\\Anaconda3\\lib\\site-packages\\tensorboard\\compat\\tensorflow_stub\\dtypes.py:545: FutureWarning: Passing (type, 1) or '1type' as a synonym of type is deprecated; in a future version of numpy, it will be understood as (type, (1,)) / '(1,)type'.\n",
      "  _np_qint32 = np.dtype([(\"qint32\", np.int32, 1)])\n",
      "C:\\Users\\TerrenceJEdmonds\\Anaconda3\\lib\\site-packages\\tensorboard\\compat\\tensorflow_stub\\dtypes.py:550: FutureWarning: Passing (type, 1) or '1type' as a synonym of type is deprecated; in a future version of numpy, it will be understood as (type, (1,)) / '(1,)type'.\n",
      "  np_resource = np.dtype([(\"resource\", np.ubyte, 1)])\n"
     ]
    }
   ],
   "source": [
    "import numpy as np\n",
    "import pandas as pd\n",
    "import matplotlib.pyplot as plt\n",
    "from nltk.corpus import stopwords\n",
    "from sklearn.feature_extraction.text import CountVectorizer\n",
    "from sklearn.model_selection import train_test_split\n",
    "from keras import backend as k\n",
    "from keras.preprocessing.sequence import pad_sequences\n",
    "from keras.layers import Conv2D, MaxPooling2D, Dense, Conv1D, Dropout\n",
    "from keras.layers import MaxPooling1D, Flatten, Embedding, LSTM\n",
    "from keras.models import Sequential\n",
    "import spacy\n",
    "import nltk\n",
    "import en_core_web_md"
   ]
  },
  {
   "cell_type": "code",
   "execution_count": 3,
   "metadata": {},
   "outputs": [],
   "source": [
    "tweet_full_train_df = pd.read_csv('input/train.csv')\n",
    "tweet_full_test_df = pd.read_csv('input/test.csv')"
   ]
  },
  {
   "cell_type": "code",
   "execution_count": 4,
   "metadata": {},
   "outputs": [],
   "source": [
    "tweet_full_train_df.head()\n",
    "train_test_size = 0.2\n",
    "\n",
    "# may want to try messing with some of these values in CountVectorizer\n",
    "vectorizer = CountVectorizer(binary=True, stop_words=stopwords.words('english'),\n",
    "                            lowercase=True, min_df=3, max_df=0.9, max_features=5000)\n",
    "\n",
    "#vectorizer = CountVectorizer(binary=True, stop_words=stopwords.words('english'),\n",
    "#                            lowercase=True, min_df=5, max_df=0.9, max_features=5000)\n",
    "\n",
    "wv_data = vectorizer.fit_transform(tweet_full_train_df['text'].values)\n",
    "wv_target = tweet_full_train_df['target'].values\n",
    "\n",
    "data_train, data_validation, target_train, target_validation = train_test_split(\n",
    "    tweet_full_train_df['text'].values ,tweet_full_train_df['target'].values,test_size=train_test_size)"
   ]
  },
  {
   "cell_type": "code",
   "execution_count": 5,
   "metadata": {},
   "outputs": [
    {
     "name": "stdout",
     "output_type": "stream",
     "text": [
      "[3763]\n",
      "[466, 454, 4235, 1069, 2304, 2391, 3613, 3025, 2250]\n",
      "MAX_SEQ_LENGTH= 22\n",
      "N_FEATURES= 4304\n",
      "[4304 4304 4304 4304 4304 4304 4304 4304 4304 4304 4304 4304 4304  466\n",
      "  454 4235 1069 2304 2391 3613 3025 2250]\n"
     ]
    }
   ],
   "source": [
    "word2idx = {word: idx for idx, word in enumerate(vectorizer.get_feature_names())}\n",
    "tokenize = vectorizer.build_tokenizer()\n",
    "preprocess = vectorizer.build_preprocessor()\n",
    "\n",
    "def to_sequence(tokenizer, preprocessor, index, text):\n",
    "    \n",
    "    words = tokenizer(preprocessor(text))\n",
    "    #print(words)\n",
    "    indexes = [index[word] for word in words if word in index]\n",
    "    \n",
    "    return indexes\n",
    "\n",
    "print(to_sequence(tokenize, preprocess, word2idx, \"this is an important test!\"))\n",
    "data_train_sequences = [to_sequence(tokenize, preprocess, word2idx, x) for x in data_train]\n",
    "data_test_sequences = [to_sequence(tokenize, preprocess, word2idx, x) for x in data_validation]\n",
    "print(data_train_sequences[0])\n",
    "\n",
    "# but now we pad so that everything is the same length\n",
    "MAX_SEQ_LENGTH = len(max(data_train_sequences, key=len))\n",
    "if len(max(data_test_sequences, key=len)) > MAX_SEQ_LENGTH:\n",
    "    MAX_SEQ_LENGTH = len(max(data_test_sequences, key=len))\n",
    "\n",
    "print('MAX_SEQ_LENGTH=',MAX_SEQ_LENGTH)\n",
    "N_FEATURES = len(vectorizer.get_feature_names())\n",
    "print('N_FEATURES=',N_FEATURES)\n",
    "data_train_sequences = pad_sequences(data_train_sequences, maxlen=MAX_SEQ_LENGTH, value=N_FEATURES)\n",
    "data_test_sequences = pad_sequences(data_test_sequences, maxlen=MAX_SEQ_LENGTH, value=N_FEATURES)\n",
    "print(data_train_sequences[0])"
   ]
  },
  {
   "cell_type": "code",
   "execution_count": 8,
   "metadata": {},
   "outputs": [
    {
     "name": "stdout",
     "output_type": "stream",
     "text": [
      "WARNING:tensorflow:From C:\\Users\\TerrenceJEdmonds\\Anaconda3\\lib\\site-packages\\keras\\backend\\tensorflow_backend.py:4070: The name tf.nn.max_pool is deprecated. Please use tf.nn.max_pool2d instead.\n",
      "\n",
      "WARNING:tensorflow:From C:\\Users\\TerrenceJEdmonds\\Anaconda3\\lib\\site-packages\\tensorflow\\python\\ops\\nn_impl.py:180: add_dispatch_support.<locals>.wrapper (from tensorflow.python.ops.array_ops) is deprecated and will be removed in a future version.\n",
      "Instructions for updating:\n",
      "Use tf.where in 2.0, which has the same broadcast rule as np.where\n",
      "Model: \"sequential_1\"\n",
      "_________________________________________________________________\n",
      "Layer (type)                 Output Shape              Param #   \n",
      "=================================================================\n",
      "embedding_1 (Embedding)      (None, 22, 64)            275520    \n",
      "_________________________________________________________________\n",
      "conv1d_1 (Conv1D)            (None, 22, 64)            20544     \n",
      "_________________________________________________________________\n",
      "max_pooling1d_1 (MaxPooling1 (None, 5, 64)             0         \n",
      "_________________________________________________________________\n",
      "dropout_1 (Dropout)          (None, 5, 64)             0         \n",
      "_________________________________________________________________\n",
      "conv1d_2 (Conv1D)            (None, 5, 64)             20544     \n",
      "_________________________________________________________________\n",
      "max_pooling1d_2 (MaxPooling1 (None, 1, 64)             0         \n",
      "_________________________________________________________________\n",
      "flatten_1 (Flatten)          (None, 64)                0         \n",
      "_________________________________________________________________\n",
      "dense_1 (Dense)              (None, 64)                4160      \n",
      "_________________________________________________________________\n",
      "dense_2 (Dense)              (None, 1)                 65        \n",
      "=================================================================\n",
      "Total params: 320,833\n",
      "Trainable params: 320,833\n",
      "Non-trainable params: 0\n",
      "_________________________________________________________________\n",
      "None\n"
     ]
    }
   ],
   "source": [
    "def conv_model01():\n",
    "    \n",
    "    model = Sequential()\n",
    "    \n",
    "    model.add(Embedding(len(vectorizer.get_feature_names()) + 1, 64,\n",
    "                       input_length=MAX_SEQ_LENGTH))\n",
    "    \n",
    "    model.add(Conv1D(64, 5, activation='relu',padding='same'))\n",
    "    model.add(MaxPooling1D(5,padding='same'))\n",
    "    model.add(Dropout(0.25))\n",
    "    \n",
    "    model.add(Conv1D(64,5,activation='relu',padding='same'))\n",
    "    model.add(MaxPooling1D(5,padding='same'))\n",
    "    \n",
    "    model.add(Flatten())\n",
    "    model.add(Dense(units=64, activation='relu'))\n",
    "    model.add(Dense(units=1, activation='sigmoid'))\n",
    "    \n",
    "    return model\n",
    "\n",
    "sim_conv_model = conv_model01()\n",
    "\n",
    "sim_conv_model.compile(loss='binary_crossentropy', optimizer='adam', metrics=['accuracy'])\n",
    "print(sim_conv_model.summary())"
   ]
  },
  {
   "cell_type": "code",
   "execution_count": 6,
   "metadata": {
    "collapsed": true,
    "jupyter": {
     "outputs_hidden": true
    }
   },
   "outputs": [
    {
     "name": "stdout",
     "output_type": "stream",
     "text": [
      "WARNING:tensorflow:From C:\\Users\\TerrenceJEdmonds\\Anaconda3\\lib\\site-packages\\keras\\backend\\tensorflow_backend.py:422: The name tf.global_variables is deprecated. Please use tf.compat.v1.global_variables instead.\n",
      "\n",
      "Train on 5990 samples, validate on 100 samples\n",
      "Epoch 1/7\n",
      "5990/5990 [==============================] - ETA: 26s - loss: 0.6875 - accuracy: 0.587 - ETA: 4s - loss: 0.6868 - accuracy: 0.562 - ETA: 0s - loss: 0.6790 - accuracy: 0.56 - 3s 454us/step - loss: 0.6775 - accuracy: 0.5698 - val_loss: 0.6625 - val_accuracy: 0.5300\n",
      "Epoch 2/7\n",
      "5990/5990 [==============================] - ETA: 0s - loss: 0.6649 - accuracy: 0.55 - ETA: 0s - loss: 0.6498 - accuracy: 0.62 - 0s 17us/step - loss: 0.6417 - accuracy: 0.6399 - val_loss: 0.5926 - val_accuracy: 0.6800\n",
      "Epoch 3/7\n",
      "5990/5990 [==============================] - ETA: 0s - loss: 0.6056 - accuracy: 0.67 - ETA: 0s - loss: 0.5684 - accuracy: 0.72 - 0s 16us/step - loss: 0.5532 - accuracy: 0.7362 - val_loss: 0.4839 - val_accuracy: 0.8000\n",
      "Epoch 4/7\n",
      "5990/5990 [==============================] - ETA: 0s - loss: 0.4594 - accuracy: 0.79 - ETA: 0s - loss: 0.4083 - accuracy: 0.83 - 0s 17us/step - loss: 0.3904 - accuracy: 0.8404 - val_loss: 0.5064 - val_accuracy: 0.7800\n",
      "Epoch 5/7\n",
      "5990/5990 [==============================] - ETA: 0s - loss: 0.2875 - accuracy: 0.88 - ETA: 0s - loss: 0.2937 - accuracy: 0.88 - 0s 17us/step - loss: 0.2925 - accuracy: 0.8815 - val_loss: 0.5679 - val_accuracy: 0.7600\n",
      "Epoch 6/7\n",
      "5990/5990 [==============================] - ETA: 0s - loss: 0.2619 - accuracy: 0.89 - ETA: 0s - loss: 0.2277 - accuracy: 0.90 - 0s 17us/step - loss: 0.2270 - accuracy: 0.9100 - val_loss: 0.6271 - val_accuracy: 0.7500\n",
      "Epoch 7/7\n",
      "5990/5990 [==============================] - ETA: 0s - loss: 0.1716 - accuracy: 0.94 - ETA: 0s - loss: 0.1769 - accuracy: 0.93 - 0s 18us/step - loss: 0.1799 - accuracy: 0.9361 - val_loss: 0.6804 - val_accuracy: 0.7700\n"
     ]
    },
    {
     "data": {
      "image/png": "[encoded data removed]",
      "text/plain": [
       "<Figure size 432x288 with 1 Axes>"
      ]
     },
     "metadata": {
      "needs_background": "light"
     },
     "output_type": "display_data"
    },
    {
     "data": {
      "image/png": "[encoded data removed]",
      "text/plain": [
       "<Figure size 432x288 with 1 Axes>"
      ]
     },
     "metadata": {
      "needs_background": "light"
     },
     "output_type": "display_data"
    }
   ],
   "source": [
    "\n",
    "sim_conv_model = conv_model01()\n",
    "\n",
    "sim_conv_model.compile(loss='binary_crossentropy', optimizer='adam', metrics=['accuracy'])\n",
    "\n",
    "sim_conv_model.fit(data_train_sequences[:-100],target_train[:-100],\n",
    "                  epochs=7, batch_size=512, verbose=1,\n",
    "                  validation_data=(data_train_sequences[-100:],target_train[-100:]))\n",
    "\n",
    "plt.plot(sim_conv_model.history.history['val_accuracy'])\n",
    "plt.title('val accuracy')\n",
    "plt.show()\n",
    "\n",
    "plt.plot(sim_conv_model.history.history['val_loss'])\n",
    "plt.title('val loss')\n",
    "plt.show()"
   ]
  },
  {
   "cell_type": "code",
   "execution_count": 7,
   "metadata": {},
   "outputs": [
    {
     "name": "stdout",
     "output_type": "stream",
     "text": [
      "1523/1523 [==============================] - ETA:  - ETA:  - ETA:  - 0s 87us/step\n",
      "Accuracy: 0.7826657891273499\n"
     ]
    }
   ],
   "source": [
    "scores = sim_conv_model.evaluate(data_test_sequences, target_validation, verbose=1)\n",
    "print('Accuracy:', scores[1])"
   ]
  },
  {
   "cell_type": "code",
   "execution_count": 9,
   "metadata": {},
   "outputs": [
    {
     "name": "stdout",
     "output_type": "stream",
     "text": [
      "WARNING:tensorflow:From C:\\Users\\TerrenceJEdmonds\\Anaconda3\\lib\\site-packages\\keras\\backend\\tensorflow_backend.py:422: The name tf.global_variables is deprecated. Please use tf.compat.v1.global_variables instead.\n",
      "\n",
      "1523/1523 [==============================] - ETA:  - ETA:  - 0s 64us/step\n",
      "2 / 7\n",
      "1523/1523 [==============================] - ETA:  - ETA:  - ETA:  - 0s 75us/step\n",
      "3 / 7\n",
      "1523/1523 [==============================] - ETA:  - ETA:  - 0s 65us/step\n",
      "4 / 7\n",
      "1523/1523 [==============================] - ETA:  - ETA:  - 0s 70us/step\n",
      "5 / 7\n",
      "1523/1523 [==============================] - ETA:  - ETA:  - 0s 67us/step\n",
      "6 / 7\n",
      "1523/1523 [==============================] - ETA:  - ETA:  - ETA:  - 0s 88us/step\n",
      "7 / 7\n",
      "[[2, 0.7019041180610657], [3, 0.7997373342514038], [4, 0.777413010597229], [5, 0.7596848607063293], [6, 0.7452396750450134], [7, 0.7353906631469727]]\n"
     ]
    }
   ],
   "source": [
    "# now I want to automate this for several steps in the epoch\n",
    "def train_diff_epochs(model,num_epochs=8):\n",
    "    \n",
    "    ep_scores=[]\n",
    "    \n",
    "    for ep_idx in range(2,num_epochs):\n",
    "        sim_conv_model = model\n",
    "\n",
    "        sim_conv_model.compile(loss='binary_crossentropy', optimizer='adam', metrics=['accuracy'])\n",
    "\n",
    "        sim_conv_model.fit(data_train_sequences[:-100],target_train[:-100],\n",
    "                          epochs=ep_idx, batch_size=512, verbose=0,\n",
    "                          validation_data=(data_train_sequences[-100:],target_train[-100:]))\n",
    "        scores = sim_conv_model.evaluate(data_test_sequences, target_validation, verbose=1)\n",
    "        ep_scores.append([ep_idx,scores[1]])\n",
    "        print(ep_idx,'/',num_epochs-1)\n",
    "    \n",
    "    print(ep_scores)\n",
    "    \n",
    "    return\n",
    "\n",
    "train_diff_epochs(model=conv_model01())"
   ]
  },
  {
   "cell_type": "code",
   "execution_count": 10,
   "metadata": {},
   "outputs": [
    {
     "name": "stdout",
     "output_type": "stream",
     "text": [
      "1523/1523 [==============================] - ETA:  - ETA:  - 0s 65us/step\n",
      "2 / 7\n",
      "1523/1523 [==============================] - ETA:  - ETA:  - 0s 58us/step\n",
      "3 / 7\n",
      "1523/1523 [==============================] - ETA:  - ETA:  - 0s 63us/step\n",
      "4 / 7\n",
      "1523/1523 [==============================] - ETA:  - ETA:  - 0s 63us/step\n",
      "5 / 7\n",
      "1523/1523 [==============================] - ETA:  - ETA:  - 0s 61us/step\n",
      "6 / 7\n",
      "1523/1523 [==============================] - ETA:  - ETA:  - 0s 66us/step\n",
      "7 / 7\n",
      "[[2, 0.7091267108917236], [3, 0.8023637533187866], [4, 0.7806959748268127], [5, 0.7623112201690674], [6, 0.734734058380127], [7, 0.7380170822143555]]\n"
     ]
    }
   ],
   "source": [
    "def conv_model02():\n",
    "    \n",
    "    model = Sequential()\n",
    "    \n",
    "    model.add(Embedding(len(vectorizer.get_feature_names()) + 1, 64,\n",
    "                       input_length=MAX_SEQ_LENGTH))\n",
    "    \n",
    "    model.add(Conv1D(128, 5, activation='relu',padding='same'))\n",
    "    #model.add(Dropout(0.25))\n",
    "    model.add(MaxPooling1D(5,padding='same'))\n",
    "    \n",
    "    # second layer doesn't add anything in comparison to best train model version\n",
    "    \n",
    "    model.add(Flatten())\n",
    "    model.add(Dense(units=64, activation='relu'))\n",
    "    model.add(Dense(units=1, activation='sigmoid'))\n",
    "    \n",
    "    return model\n",
    "\n",
    "train_diff_epochs(model=conv_model02())"
   ]
  },
  {
   "cell_type": "code",
   "execution_count": 11,
   "metadata": {},
   "outputs": [
    {
     "name": "stdout",
     "output_type": "stream",
     "text": [
      "1523/1523 [==============================] - ETA:  - ETA:  - 0s 64us/step\n",
      "0.784635603427887\n"
     ]
    }
   ],
   "source": [
    "# okay, so just wrap this up and create a submission file\n",
    "\n",
    "#tweet_full_test_df.head()\n",
    "#data_test_sequences # technically validation\n",
    "\n",
    "submit_model = conv_model02()\n",
    "submit_model.compile(loss='binary_crossentropy', optimizer='adam', metrics=['accuracy'])\n",
    "submit_model.fit(data_train_sequences[:-100],target_train[:-100],\n",
    "                          epochs=3, batch_size=512, verbose=0,\n",
    "                          validation_data=(data_train_sequences[-100:],target_train[-100:]))\n",
    "scores = submit_model.evaluate(data_test_sequences, target_validation, verbose=1)\n",
    "print(scores[1])"
   ]
  },
  {
   "cell_type": "code",
   "execution_count": 52,
   "metadata": {},
   "outputs": [
    {
     "name": "stdout",
     "output_type": "stream",
     "text": [
      "(3263,) (3263, 1)\n"
     ]
    },
    {
     "data": {
      "text/html": [
       "<div>\n",
       "<style scoped>\n",
       "    .dataframe tbody tr th:only-of-type {\n",
       "        vertical-align: middle;\n",
       "    }\n",
       "\n",
       "    .dataframe tbody tr th {\n",
       "        vertical-align: top;\n",
       "    }\n",
       "\n",
       "    .dataframe thead th {\n",
       "        text-align: right;\n",
       "    }\n",
       "</style>\n",
       "<table border=\"1\" class=\"dataframe\">\n",
       "  <thead>\n",
       "    <tr style=\"text-align: right;\">\n",
       "      <th></th>\n",
       "      <th>id</th>\n",
       "      <th>target</th>\n",
       "    </tr>\n",
       "  </thead>\n",
       "  <tbody>\n",
       "    <tr>\n",
       "      <th>0</th>\n",
       "      <td>0</td>\n",
       "      <td>0</td>\n",
       "    </tr>\n",
       "    <tr>\n",
       "      <th>1</th>\n",
       "      <td>2</td>\n",
       "      <td>0</td>\n",
       "    </tr>\n",
       "    <tr>\n",
       "      <th>2</th>\n",
       "      <td>3</td>\n",
       "      <td>1</td>\n",
       "    </tr>\n",
       "    <tr>\n",
       "      <th>3</th>\n",
       "      <td>9</td>\n",
       "      <td>0</td>\n",
       "    </tr>\n",
       "    <tr>\n",
       "      <th>4</th>\n",
       "      <td>11</td>\n",
       "      <td>1</td>\n",
       "    </tr>\n",
       "  </tbody>\n",
       "</table>\n",
       "</div>"
      ],
      "text/plain": [
       "   id  target\n",
       "0   0       0\n",
       "1   2       0\n",
       "2   3       1\n",
       "3   9       0\n",
       "4  11       1"
      ]
     },
     "execution_count": 52,
     "metadata": {},
     "output_type": "execute_result"
    }
   ],
   "source": [
    "wv_submit = vectorizer.transform(tweet_full_test_df['text'].values)\n",
    "#print(tweet_full_test_df['text'].values)\n",
    "data_submit_sequences = [to_sequence(tokenize, preprocess, word2idx, x) for x in tweet_full_test_df['text'].values]\n",
    "#MAX_SEQ_LENGTH = len(max(data_submit_sequences,key=len))\n",
    "data_submit_sequences = pad_sequences(data_submit_sequences, maxlen=MAX_SEQ_LENGTH,\n",
    "                                      value=N_FEATURES)\n",
    "predictions_cnn = submit_model.predict_classes(data_submit_sequences)\n",
    "#print(predictions)\n",
    "#print(tweet_full_test_df['text'][2])\n",
    "pred_list_cnn = [predictions_cnn[pos][0] for pos in range(0,len(predictions_cnn))]\n",
    "#print(pred_list)\n",
    "print(tweet_full_test_df['id'].shape,predictions_cnn.shape)\n",
    "pred_dict = {'id':tweet_full_test_df['id'].values,'target':list(pred_list_cnn)}\n",
    "#final_frame = pd.DataFrame([tweet_full_test_df['id'].values,predictions],columns=['id,target'])\n",
    "preds_df = pd.DataFrame(pred_dict,columns=['id','target'])\n",
    "preds_df.to_csv('input/submission01.csv',index=False)\n",
    "#preds_df = preds_df.drop(index=label)\n",
    "#preds_df.head()"
   ]
  },
  {
   "cell_type": "code",
   "execution_count": 53,
   "metadata": {},
   "outputs": [],
   "source": [
    "# lets throw in other models\n",
    "def simple_cv_model():\n",
    "    # just a simple model\n",
    "    \n",
    "    model = Sequential()\n",
    "    \n",
    "    model.add(Dense(units=500, activation='relu', input_dim=len(vectorizer.get_feature_names())))\n",
    "    model.add(Dense(units=1, activation='sigmoid'))\n",
    "    \n",
    "    return model"
   ]
  },
  {
   "cell_type": "code",
   "execution_count": 55,
   "metadata": {},
   "outputs": [
    {
     "name": "stdout",
     "output_type": "stream",
     "text": [
      "Train on 5990 samples, validate on 1523 samples\n",
      "Epoch 1/2\n",
      "5990/5990 [==============================] - ETA: 8s - loss: 0.6980 - accuracy: 0.46 - ETA: 1s - loss: 0.6829 - accuracy: 0.57 - ETA: 0s - loss: 0.6699 - accuracy: 0.62 - ETA: 0s - loss: 0.6503 - accuracy: 0.67 - ETA: 0s - loss: 0.6333 - accuracy: 0.69 - ETA: 0s - loss: 0.6168 - accuracy: 0.70 - ETA: 0s - loss: 0.6019 - accuracy: 0.71 - ETA: 0s - loss: 0.5832 - accuracy: 0.73 - 1s 139us/step - loss: 0.5667 - accuracy: 0.7414 - val_loss: 0.4507 - val_accuracy: 0.8135\n",
      "Epoch 2/2\n",
      "5990/5990 [==============================] - ETA: 0s - loss: 0.4043 - accuracy: 0.80 - ETA: 0s - loss: 0.3593 - accuracy: 0.86 - ETA: 0s - loss: 0.3501 - accuracy: 0.86 - ETA: 0s - loss: 0.3475 - accuracy: 0.86 - ETA: 0s - loss: 0.3445 - accuracy: 0.86 - ETA: 0s - loss: 0.3441 - accuracy: 0.86 - ETA: 0s - loss: 0.3427 - accuracy: 0.86 - ETA: 0s - loss: 0.3441 - accuracy: 0.86 - ETA: 0s - loss: 0.3502 - accuracy: 0.85 - 1s 93us/step - loss: 0.3514 - accuracy: 0.8539 - val_loss: 0.4357 - val_accuracy: 0.8056\n",
      "1523/1523 [==============================] - ETA:  - ETA:  - ETA:  - 0s 91us/step\n"
     ]
    }
   ],
   "source": [
    "data_train_cv = vectorizer.fit_transform(data_train)\n",
    "data_valid_cv = vectorizer.transform(data_validation)\n",
    "\n",
    "simple_countvec = simple_cv_model()\n",
    "simple_countvec.compile(loss='binary_crossentropy', optimizer='adam', metrics=['accuracy'])\n",
    "\n",
    "simple_countvec.fit(data_train_cv[:-100],target_train[:-100],\n",
    "          epochs=2, batch_size=128, verbose=1,\n",
    "         validation_data=(data_valid_cv,target_validation))"
   ]
  },
  {
   "cell_type": "code",
   "execution_count": 59,
   "metadata": {},
   "outputs": [
    {
     "name": "stdout",
     "output_type": "stream",
     "text": [
      "1523/1523 [==============================] - ETA:  - ETA:  - ETA:  - 0s 101us/step\n",
      "0.8056467771530151\n"
     ]
    }
   ],
   "source": [
    "scores = simple_countvec.evaluate(data_valid_cv,target_validation)\n",
    "print(scores[1])\n",
    "\n",
    "wv_submit = vectorizer.transform(tweet_full_test_df['text'].values)\n",
    "\n",
    "predictions_fcn = simple_countvec.predict_classes(wv_submit) \n",
    "# [predictions_cnn[pos][0] for pos in range(0,len(predictions_cnn))]\n",
    "pred_list_fcn = [predictions_fcn[pos][0] for pos in range(0,len(predictions_fcn))]\n",
    "#print(pred_list_fcn)"
   ]
  },
  {
   "cell_type": "code",
   "execution_count": 68,
   "metadata": {},
   "outputs": [
    {
     "name": "stdout",
     "output_type": "stream",
     "text": [
      "<bound method Network.summary of <keras.engine.sequential.Sequential object at 0x000001C8C3B8F630>>\n"
     ]
    },
    {
     "data": {
      "image/png": "[encoded data removed]",
      "text/plain": [
       "<Figure size 432x288 with 1 Axes>"
      ]
     },
     "metadata": {
      "needs_background": "light"
     },
     "output_type": "display_data"
    },
    {
     "data": {
      "image/png": "[encoded data removed]",
      "text/plain": [
       "<Figure size 432x288 with 1 Axes>"
      ]
     },
     "metadata": {
      "needs_background": "light"
     },
     "output_type": "display_data"
    }
   ],
   "source": [
    "# and add in a third model, lstm\n",
    "\n",
    "def lstm_model():\n",
    "    \n",
    "    model = Sequential()\n",
    "    \n",
    "    model.add(Embedding(len(vectorizer.get_feature_names()) +1, 64, input_length=MAX_SEQ_LENGTH))\n",
    "    \n",
    "    model.add(LSTM(128))\n",
    "    model.add(Dense(units=1, activation='sigmoid'))\n",
    "    \n",
    "    return model\n",
    "\n",
    "sim_lstm_mod = lstm_model()\n",
    "sim_lstm_mod.compile(loss='binary_crossentropy', optimizer='adam', metrics=['accuracy'])\n",
    "print(sim_lstm_mod.summary)\n",
    "\n",
    "sim_lstm_mod.fit(data_train_sequences[:-100],target_train[:-100],\n",
    "                epochs=12, batch_size=128, verbose=0,\n",
    "                validation_data=(data_train_sequences[-100:],target_train[-100:]))\n",
    "\n",
    "plt.plot(sim_lstm_mod.history.history['val_accuracy'])\n",
    "plt.title('val accuracy')\n",
    "plt.show()\n",
    "\n",
    "plt.plot(sim_lstm_mod.history.history['val_loss'])\n",
    "plt.title('val loss')\n",
    "plt.show()"
   ]
  },
  {
   "cell_type": "code",
   "execution_count": 71,
   "metadata": {},
   "outputs": [
    {
     "name": "stdout",
     "output_type": "stream",
     "text": [
      "1523/1523 [==============================] - ETA:  - ETA:  - ETA:  - ETA:  - ETA:  - ETA:  - ETA:  - ETA:  - ETA:  - ETA:  - ETA:  - 1s 383us/step\n",
      "0.7623112201690674\n"
     ]
    }
   ],
   "source": [
    "scores_lstm = sim_lstm_mod.evaluate(data_test_sequences,target_validation)\n",
    "print(scores_lstm[1])\n",
    "\n",
    "predictions_lstm = sim_lstm_mod.predict_classes(data_submit_sequences)\n",
    "pred_list_lstm = [predictions_lstm[pos][0] for pos in range(0,len(predictions_lstm))]\n",
    "#print(pred_list_lstm)"
   ]
  },
  {
   "cell_type": "code",
   "execution_count": 77,
   "metadata": {},
   "outputs": [],
   "source": [
    "# different prediction lists\n",
    "#pred_list\n",
    "#pred_list_fcn\n",
    "#pred_list_lstm\n",
    "\n",
    "#print(sum(pred_list),sum(pred_list_fcn),sum(pred_list_lstm))\n",
    "\n",
    "# compare values in predictions\n",
    "\n",
    "combined_preds = []\n",
    "for i in range(0,len(pred_list)):\n",
    "    mid_sum = pred_list[i] + pred_list_fcn[i] + pred_list_lstm[i]\n",
    "    if mid_sum>=2:\n",
    "        combined_preds.append(1)\n",
    "    elif mid_sum < 2:\n",
    "        combined_preds.append(0)\n",
    "#print(combined_preds)\n",
    "\n",
    "pred_dict_combined = {'id':tweet_full_test_df['id'].values,'target':combined_preds}\n",
    "preds_combined_df = pd.DataFrame(pred_dict_combined,columns=['id','target'])\n",
    "preds_combined_df.to_csv('input/combined_submission01.csv',index=False)"
   ]
  },
  {
   "cell_type": "markdown",
   "metadata": {},
   "source": [
    "The combination of the models gave an improvement, but only a very small improvement. So most of the models are likely failing in the same place. May need to try a different embedding, or put more effort into cleaning the text\n",
    "\n",
    "some ideas from this kernel \n",
    "https://www.kaggle.com/vbmokin/nlp-eda-bag-of-words-tf-idf-glove-bert\n",
    "https://www.kaggle.com/gauthampughazh/disaster-or-not-plotly-use-tfidf-h2o-ai-automl"
   ]
  },
  {
   "cell_type": "code",
   "execution_count": null,
   "metadata": {},
   "outputs": [],
   "source": []
  }
 ],
 "metadata": {
  "kernelspec": {
   "display_name": "Python 3",
   "language": "python",
   "name": "python3"
  },
  "language_info": {
   "codemirror_mode": {
    "name": "ipython",
    "version": 3
   },
   "file_extension": ".py",
   "mimetype": "text/x-python",
   "name": "python",
   "nbconvert_exporter": "python",
   "pygments_lexer": "ipython3",
   "version": "3.7.3"
  }
 },
 "nbformat": 4,
 "nbformat_minor": 4
}
